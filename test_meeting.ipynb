{
 "cells": [
  {
   "cell_type": "markdown",
   "metadata": {},
   "source": [
    "#  **Meeting Processor Library**"
   ]
  },
  {
   "cell_type": "markdown",
   "metadata": {},
   "source": [
    "###   **Create Linux virtual environment**\n",
    "\n",
    "- pip install virtualenv\n",
    "- virtualenv env \n",
    "- source env/bin/activate\n",
    "- pip install -r requirements.txt\n",
    "- sudo apt install texlive-fonts-recommended texlive-fonts-extra cm-super dvipng"
   ]
  },
  {
   "cell_type": "markdown",
   "metadata": {},
   "source": [
    "###   **Installation of requirements**"
   ]
  },
  {
   "cell_type": "code",
   "execution_count": null,
   "metadata": {},
   "outputs": [],
   "source": [
    "!pip install -U openai-whisper\n",
    "!pip install pytube\n",
    "!pip install pydub\n",
    "!pip install openai\n",
    "!pip install pdf2docx"
   ]
  },
  {
   "cell_type": "markdown",
   "metadata": {},
   "source": [
    "###  **LaTeX Installation**"
   ]
  },
  {
   "cell_type": "code",
   "execution_count": null,
   "metadata": {},
   "outputs": [],
   "source": [
    "!apt install texlive-fonts-recommended texlive-fonts-extra cm-super dvipng"
   ]
  },
  {
   "cell_type": "markdown",
   "metadata": {},
   "source": [
    "###  **Library Import**\n"
   ]
  },
  {
   "cell_type": "code",
   "execution_count": null,
   "metadata": {},
   "outputs": [],
   "source": [
    "from MeetingProcessor import Meet\n",
    "\n",
    "meeting = Meet('https://www.youtube.com/watch?v=Vm2VpHFpPyo')\n",
    "meeting.process()"
   ]
  }
 ],
 "metadata": {
  "language_info": {
   "name": "python"
  },
  "orig_nbformat": 4
 },
 "nbformat": 4,
 "nbformat_minor": 2
}
