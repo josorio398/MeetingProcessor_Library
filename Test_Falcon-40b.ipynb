{
 "cells": [
  {
   "cell_type": "code",
   "execution_count": null,
   "metadata": {},
   "outputs": [],
   "source": [
    "!pip install transformers\n",
    "!pip install einops"
   ]
  },
  {
   "cell_type": "code",
   "execution_count": null,
   "metadata": {},
   "outputs": [],
   "source": [
    "from transformers import AutoTokenizer, AutoModelForCausalLM, TextGenerationPipeline\n",
    "import torch\n",
    "import textwrap\n",
    "\n",
    "class MyTextProcessor:\n",
    "    def __init__(self, model_name):\n",
    "        self.tokenizer = AutoTokenizer.from_pretrained(model_name)\n",
    "        self.model = AutoModelForCausalLM.from_pretrained(model_name)\n",
    "        self.pipeline = TextGenerationPipeline(\n",
    "            model=self.model,\n",
    "            tokenizer=self.tokenizer,\n",
    "            device=0  # Use CPU. Change to the ID of your GPU if you have a GPU and want to use it.\n",
    "        )\n",
    "\n",
    "    def text_processing(self, transcription_path):\n",
    "        with open(transcription_path, 'r') as f:\n",
    "            text = f.read()\n",
    "        text_fragments = textwrap.wrap(text, 3000)\n",
    "        responses = []\n",
    "        for fragment in text_fragments:\n",
    "            prompt = f\"\"\"Actúa como un secretario de actas con experiencia, te daré un fragmento de texto de una reunión, quiero que me entregues un resumen en formato LaTeX que debe tener la siguiente estructura.\\\\section{{parte {text_fragments.index(fragment)+1}}} \\\\subsection{{Tema}} \\\\subsection{{Agenda}} \\\\subsection{{Decisiones}} \\\\subsection{{Compromisos}}, el contenido de la subsección Tema puedes ser un breve resumen, el contenido de la subsección Agenda debe ser los temas mas importantes que se mencionaron separados por comas, el contenido de la subsección Decisiones debe tener los temas de las decisiones mas importantes separados por comas y el contenido de la subsección Compromisos debe establecer los compromisos y si es posible con su responsable y fechas separados por comas, si no existe contenido en una subsección puedes escribir que no se establecieron en esa parte, no cambies el formato LaTeX establecido, no uses un entorno itimize, numerate o description,recuerda que lo que me entregues se colocará entre un \\\\begin{{document}} y \\\\end{{document}} que ya tiene su preámbulo Latex. {fragment}\"\"\"\n",
    "            response = self.pipeline(prompt, max_length=300, do_sample=True)\n",
    "            responses.append(response[0]['generated_text'])\n",
    "        response_path = 'responses.txt'\n",
    "        with open(response_path, 'w') as f:\n",
    "            for response in responses:\n",
    "                f.write(f\"{response}\\n\")\n",
    "        return response_path\n"
   ]
  },
  {
   "cell_type": "code",
   "execution_count": null,
   "metadata": {},
   "outputs": [],
   "source": [
    "processor = MyTextProcessor(\"tiiuae/falcon-40b\")\n",
    "response_path = processor.text_processing(\"transcription.txt\")"
   ]
  }
 ],
 "metadata": {
  "language_info": {
   "name": "python"
  },
  "orig_nbformat": 4
 },
 "nbformat": 4,
 "nbformat_minor": 2
}
